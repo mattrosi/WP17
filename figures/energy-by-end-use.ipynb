{
 "cells": [
  {
   "cell_type": "markdown",
   "metadata": {},
   "source": [
    "# Electricity estimations\n",
    "\n",
    "This builds from the 2016-02-17-daily-predicted-use notebook.\n",
    "\n",
    "I'd like to understand the contributions to the total energy use from the different end uses.\n",
    "\n",
    "TODO:\n",
    "\n",
    "- filter outliers or bad hours per week numbers ()\n",
    "- why are all counts 1184, shouldn't there be nulls?\n",
    "- are we averaging in zeros that should be nulls?\n",
    "- why isn't the survey preventing hours and per week responses if you don't have the appliance?\n",
    "- do the energy averages omit the null values?"
   ]
  },
  {
   "cell_type": "code",
   "execution_count": 1,
   "metadata": {
    "collapsed": false
   },
   "outputs": [
    {
     "name": "stderr",
     "output_type": "stream",
     "text": [
      "/Users/dsoto/anaconda/envs/sotolab/lib/python3.4/site-packages/matplotlib/__init__.py:872: UserWarning: axes.color_cycle is deprecated and replaced with axes.prop_cycle; please use the latter.\n",
      "  warnings.warn(self.msg_depr % (key, alt_key))\n"
     ]
    }
   ],
   "source": [
    "%matplotlib inline\n",
    "import matplotlib.pyplot as plt\n",
    "import seaborn as sns\n",
    "import pandas as pd\n",
    "import pysentani as sti\n",
    "survey = pd.read_excel('../data-survey/sentani-merged-cleaned-2015-06-10.xlsx')\n",
    "survey['access_type'] = sti.access_type(survey)"
   ]
  },
  {
   "cell_type": "markdown",
   "metadata": {},
   "source": [
    "# Filtering bad responses\n",
    "\n",
    "There are some responses currently in the survey that report use above 24 hours per day or more than 7 days per week.  For now if these exceed the maximum, I'm replacing with the maximum.  We may want to clean the data set and repost a new version.\n",
    "\n",
    "When we filter the data, we have to account for the presence of null values."
   ]
  },
  {
   "cell_type": "code",
   "execution_count": 2,
   "metadata": {
    "collapsed": false
   },
   "outputs": [],
   "source": [
    "for app in ['TV', 'radio', 'fridge', 'fan', 'rice_cooker', 'lighting']:\n",
    "    # generate column labels for each appliance\n",
    "    wk_col = 'app_{}_per_wk'.format(app)\n",
    "    hr_col = 'app_{}_hrs'.format(app)\n",
    "    # if null or within range use value, otherwise use max possible value\n",
    "    survey[hr_col] = survey[hr_col].where(survey[hr_col].isnull() | (survey[hr_col] <= 24), 24)\n",
    "    survey[wk_col] = survey[wk_col].where(survey[wk_col].isnull() | (survey[wk_col] <= 7), 7)\n",
    "\n",
    "    # ensure non-null values are within bounds\n",
    "    assert(all(survey[wk_col].dropna() <= 7))\n",
    "    assert(all(survey[wk_col].dropna() >= 0))\n",
    "    assert(all(survey[hr_col].dropna() <= 24))\n",
    "    assert(all(survey[hr_col].dropna() >= 0))"
   ]
  },
  {
   "cell_type": "markdown",
   "metadata": {},
   "source": [
    "We use these hourly ranges to estimate the electricity use for each appliance type.\n",
    "\n",
    "$$ \\textrm{daily energy (kWh)} = \\left(\\frac{use\\ times\\ per\\ week * hours\\ per\\ use}{7}\\right)power(kW)$$"
   ]
  },
  {
   "cell_type": "code",
   "execution_count": 3,
   "metadata": {
    "collapsed": false
   },
   "outputs": [],
   "source": [
    "powers = {'TV':0.040, \n",
    "          'fridge':0.100, \n",
    "          'radio':0.010, \n",
    "          'fan':0.050, \n",
    "          'rice_cooker':0.350, \n",
    "          'lighting':0.050}\n",
    "appliance_list = ['TV', 'fridge', 'radio', 'fan', 'rice_cooker', 'lighting']\n",
    "\n",
    "for appliance in appliance_list:\n",
    "    # create column label from appliance names\n",
    "    wk_col = 'app_{}_per_wk'.format(appliance)\n",
    "    hr_col = 'app_{}_hrs'.format(appliance)\n",
    "    energy_col = 'daily_{}_energy'.format(appliance)\n",
    "    weekly_hr_col = 'weekly_{}_hrs'.format(appliance)\n",
    "    survey[weekly_hr_col] = survey[wk_col] * survey[hr_col]    \n",
    "    survey[energy_col] = survey[weekly_hr_col] / 7 * powers[appliance]"
   ]
  },
  {
   "cell_type": "markdown",
   "metadata": {},
   "source": [
    "At this point, we have a data frame containing the energy use of each household.  If we sum these we should get the overall village use of that appliance energy type.\n",
    "\n",
    "Since the averages do not include nulls and we assume our survey sample is reflective of the overall population, these will be an estimate of the per capita use for households owning that appliance.\n",
    "\n",
    "To get the overall per capita averages, I fill nulls with zeros and then group by access type."
   ]
  },
  {
   "cell_type": "code",
   "execution_count": 4,
   "metadata": {
    "collapsed": false
   },
   "outputs": [
    {
     "data": {
      "text/html": [
       "<div>\n",
       "<table border=\"1\" class=\"dataframe\">\n",
       "  <thead>\n",
       "    <tr style=\"text-align: right;\">\n",
       "      <th></th>\n",
       "      <th>access_type</th>\n",
       "      <th>daily_TV_energy</th>\n",
       "      <th>daily_fridge_energy</th>\n",
       "      <th>daily_radio_energy</th>\n",
       "      <th>daily_fan_energy</th>\n",
       "      <th>daily_rice_cooker_energy</th>\n",
       "      <th>daily_lighting_energy</th>\n",
       "    </tr>\n",
       "  </thead>\n",
       "  <tbody>\n",
       "    <tr>\n",
       "      <th>0</th>\n",
       "      <td>no_access</td>\n",
       "      <td>0.160000</td>\n",
       "      <td>NaN</td>\n",
       "      <td>0.020000</td>\n",
       "      <td>NaN</td>\n",
       "      <td>NaN</td>\n",
       "      <td>NaN</td>\n",
       "    </tr>\n",
       "    <tr>\n",
       "      <th>1</th>\n",
       "      <td>no_access</td>\n",
       "      <td>0.080000</td>\n",
       "      <td>NaN</td>\n",
       "      <td>0.008571</td>\n",
       "      <td>NaN</td>\n",
       "      <td>NaN</td>\n",
       "      <td>0.042857</td>\n",
       "    </tr>\n",
       "    <tr>\n",
       "      <th>2</th>\n",
       "      <td>no_access</td>\n",
       "      <td>0.120000</td>\n",
       "      <td>NaN</td>\n",
       "      <td>NaN</td>\n",
       "      <td>NaN</td>\n",
       "      <td>NaN</td>\n",
       "      <td>NaN</td>\n",
       "    </tr>\n",
       "    <tr>\n",
       "      <th>3</th>\n",
       "      <td>no_access</td>\n",
       "      <td>0.022857</td>\n",
       "      <td>NaN</td>\n",
       "      <td>NaN</td>\n",
       "      <td>NaN</td>\n",
       "      <td>NaN</td>\n",
       "      <td>0.114286</td>\n",
       "    </tr>\n",
       "    <tr>\n",
       "      <th>4</th>\n",
       "      <td>no_access</td>\n",
       "      <td>NaN</td>\n",
       "      <td>NaN</td>\n",
       "      <td>NaN</td>\n",
       "      <td>NaN</td>\n",
       "      <td>NaN</td>\n",
       "      <td>0.300000</td>\n",
       "    </tr>\n",
       "  </tbody>\n",
       "</table>\n",
       "</div>"
      ],
      "text/plain": [
       "  access_type  daily_TV_energy  daily_fridge_energy  daily_radio_energy  \\\n",
       "0   no_access         0.160000                  NaN            0.020000   \n",
       "1   no_access         0.080000                  NaN            0.008571   \n",
       "2   no_access         0.120000                  NaN                 NaN   \n",
       "3   no_access         0.022857                  NaN                 NaN   \n",
       "4   no_access              NaN                  NaN                 NaN   \n",
       "\n",
       "   daily_fan_energy  daily_rice_cooker_energy  daily_lighting_energy  \n",
       "0               NaN                       NaN                    NaN  \n",
       "1               NaN                       NaN               0.042857  \n",
       "2               NaN                       NaN                    NaN  \n",
       "3               NaN                       NaN               0.114286  \n",
       "4               NaN                       NaN               0.300000  "
      ]
     },
     "execution_count": 4,
     "metadata": {},
     "output_type": "execute_result"
    }
   ],
   "source": [
    "columns = ['access_type', \n",
    "           'daily_TV_energy', \n",
    "           'daily_fridge_energy', \n",
    "           'daily_radio_energy', \n",
    "           'daily_fan_energy', \n",
    "           'daily_rice_cooker_energy', \n",
    "           'daily_lighting_energy']\n",
    "energy_data = survey[columns].copy(deep=True)\n",
    "energy_data.head()"
   ]
  },
  {
   "cell_type": "code",
   "execution_count": 5,
   "metadata": {
    "collapsed": false
   },
   "outputs": [
    {
     "data": {
      "image/png": "[encoded data removed]",
      "text/plain": [
       "<matplotlib.figure.Figure at 0x10f6a65c0>"
      ]
     },
     "metadata": {},
     "output_type": "display_data"
    }
   ],
   "source": [
    "# this should be averall per capita consumption by filling nulls with zeros\n",
    "energy_data.fillna(0).groupby('access_type').mean().plot(kind='bar', stacked=True)\n",
    "plt.show()"
   ]
  },
  {
   "cell_type": "code",
   "execution_count": 6,
   "metadata": {
    "collapsed": false
   },
   "outputs": [
    {
     "data": {
      "text/html": [
       "<div>\n",
       "<table border=\"1\" class=\"dataframe\">\n",
       "  <thead>\n",
       "    <tr style=\"text-align: right;\">\n",
       "      <th></th>\n",
       "      <th>daily_TV_energy</th>\n",
       "      <th>daily_fridge_energy</th>\n",
       "      <th>daily_radio_energy</th>\n",
       "      <th>daily_fan_energy</th>\n",
       "      <th>daily_rice_cooker_energy</th>\n",
       "      <th>daily_lighting_energy</th>\n",
       "      <th>access_type</th>\n",
       "    </tr>\n",
       "    <tr>\n",
       "      <th>access_type</th>\n",
       "      <th></th>\n",
       "      <th></th>\n",
       "      <th></th>\n",
       "      <th></th>\n",
       "      <th></th>\n",
       "      <th></th>\n",
       "      <th></th>\n",
       "    </tr>\n",
       "  </thead>\n",
       "  <tbody>\n",
       "    <tr>\n",
       "      <th>PLN_grid</th>\n",
       "      <td>0.249333</td>\n",
       "      <td>0.696700</td>\n",
       "      <td>0.008495</td>\n",
       "      <td>0.053808</td>\n",
       "      <td>1.207835</td>\n",
       "      <td>0.522756</td>\n",
       "      <td>PLN_grid</td>\n",
       "    </tr>\n",
       "    <tr>\n",
       "      <th>PLN_microgrid</th>\n",
       "      <td>0.134622</td>\n",
       "      <td>0.020000</td>\n",
       "      <td>0.007790</td>\n",
       "      <td>0.006050</td>\n",
       "      <td>0.016471</td>\n",
       "      <td>0.294412</td>\n",
       "      <td>PLN_microgrid</td>\n",
       "    </tr>\n",
       "    <tr>\n",
       "      <th>community_microgrid</th>\n",
       "      <td>0.148995</td>\n",
       "      <td>0.000000</td>\n",
       "      <td>0.013915</td>\n",
       "      <td>0.008598</td>\n",
       "      <td>0.100000</td>\n",
       "      <td>0.205291</td>\n",
       "      <td>community_microgrid</td>\n",
       "    </tr>\n",
       "    <tr>\n",
       "      <th>no_access</th>\n",
       "      <td>0.083167</td>\n",
       "      <td>0.003812</td>\n",
       "      <td>0.013377</td>\n",
       "      <td>0.009992</td>\n",
       "      <td>0.020821</td>\n",
       "      <td>0.137055</td>\n",
       "      <td>no_access</td>\n",
       "    </tr>\n",
       "  </tbody>\n",
       "</table>\n",
       "</div>"
      ],
      "text/plain": [
       "                     daily_TV_energy  daily_fridge_energy  daily_radio_energy  \\\n",
       "access_type                                                                     \n",
       "PLN_grid                    0.249333             0.696700            0.008495   \n",
       "PLN_microgrid               0.134622             0.020000            0.007790   \n",
       "community_microgrid         0.148995             0.000000            0.013915   \n",
       "no_access                   0.083167             0.003812            0.013377   \n",
       "\n",
       "                     daily_fan_energy  daily_rice_cooker_energy  \\\n",
       "access_type                                                       \n",
       "PLN_grid                     0.053808                  1.207835   \n",
       "PLN_microgrid                0.006050                  0.016471   \n",
       "community_microgrid          0.008598                  0.100000   \n",
       "no_access                    0.009992                  0.020821   \n",
       "\n",
       "                     daily_lighting_energy          access_type  \n",
       "access_type                                                      \n",
       "PLN_grid                          0.522756             PLN_grid  \n",
       "PLN_microgrid                     0.294412        PLN_microgrid  \n",
       "community_microgrid               0.205291  community_microgrid  \n",
       "no_access                         0.137055            no_access  "
      ]
     },
     "execution_count": 6,
     "metadata": {},
     "output_type": "execute_result"
    }
   ],
   "source": [
    "# am I having the index label problem here?\n",
    "aggregated_energy_data = energy_data.fillna(0).groupby('access_type').mean()\n",
    "aggregated_energy_data['access_type'] = aggregated_energy_data.index\n",
    "aggregated_energy_data"
   ]
  },
  {
   "cell_type": "code",
   "execution_count": 8,
   "metadata": {
    "collapsed": false
   },
   "outputs": [
    {
     "name": "stderr",
     "output_type": "stream",
     "text": [
      "/Users/dsoto/anaconda/envs/sotolab/lib/python3.4/site-packages/matplotlib/__init__.py:892: UserWarning: axes.color_cycle is deprecated and replaced with axes.prop_cycle; please use the latter.\n",
      "  warnings.warn(self.msg_depr % (key, alt_key))\n"
     ]
    },
    {
     "data": {
      "image/png": "[encoded data removed]",
      "text/plain": [
       "<matplotlib.figure.Figure at 0x1125556d8>"
      ]
     },
     "metadata": {},
     "output_type": "display_data"
    }
   ],
   "source": [
    "energy_columns = ['daily_TV_energy', \n",
    "           'daily_fridge_energy', \n",
    "           'daily_radio_energy', \n",
    "           'daily_fan_energy', \n",
    "           'daily_rice_cooker_energy', \n",
    "           'daily_lighting_energy']\n",
    "tidy_energy_data = pd.melt(aggregated_energy_data, \n",
    "                           id_vars='access_type', \n",
    "                           value_vars=energy_columns)\n",
    "sns.barplot(data=tidy_energy_data, x='access_type', hue='variable', y='value')\n",
    "plt.savefig('energy-by-end-use.png')"
   ]
  },
  {
   "cell_type": "code",
   "execution_count": null,
   "metadata": {
    "collapsed": true
   },
   "outputs": [],
   "source": []
  }
 ],
 "metadata": {
  "kernelspec": {
   "display_name": "Python 3",
   "language": "python",
   "name": "python3"
  },
  "language_info": {
   "codemirror_mode": {
    "name": "ipython",
    "version": 3
   },
   "file_extension": ".py",
   "mimetype": "text/x-python",
   "name": "python",
   "nbconvert_exporter": "python",
   "pygments_lexer": "ipython3",
   "version": "3.4.4"
  }
 },
 "nbformat": 4,
 "nbformat_minor": 0
}
