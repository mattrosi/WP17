{
 "cells": [
  {
   "cell_type": "markdown",
   "metadata": {},
   "source": [
    "# Survey counts\n",
    "\n",
    "This notebook counts the number of surveys in each electricity access category and compares to the total number of households in each category.\n",
    "\n",
    "- Total Households from AE data\n",
    "\n",
    "## TODO\n",
    "\n",
    "- How are we defining valid surveys?\n",
    "- Clean up labels\n",
    "- Are these surveys valid across all the columns we want?\n",
    "- Column for total surveys, then later a column for number of relevant surveys to our estimates"
   ]
  },
  {
   "cell_type": "code",
   "execution_count": 30,
   "metadata": {
    "collapsed": false
   },
   "outputs": [],
   "source": [
    "import pandas as pd\n",
    "import pysentani as sti\n",
    "survey = pd.read_excel('../data-survey/sentani-merged-cleaned-2015-06-10.xlsx')\n",
    "survey['access_type'] = sti.access_type(survey)"
   ]
  },
  {
   "cell_type": "code",
   "execution_count": 31,
   "metadata": {
    "collapsed": false
   },
   "outputs": [
    {
     "data": {
      "text/html": [
       "<div>\n",
       "<table border=\"1\" class=\"dataframe\">\n",
       "  <thead>\n",
       "    <tr style=\"text-align: right;\">\n",
       "      <th></th>\n",
       "      <th>app_now/TV</th>\n",
       "      <th>app_buy/TV</th>\n",
       "      <th>valid_surveys</th>\n",
       "    </tr>\n",
       "    <tr>\n",
       "      <th>access_type</th>\n",
       "      <th></th>\n",
       "      <th></th>\n",
       "      <th></th>\n",
       "    </tr>\n",
       "  </thead>\n",
       "  <tbody>\n",
       "    <tr>\n",
       "      <th>PLN_grid</th>\n",
       "      <td>417</td>\n",
       "      <td>417</td>\n",
       "      <td>417</td>\n",
       "    </tr>\n",
       "    <tr>\n",
       "      <th>PLN_microgrid</th>\n",
       "      <td>115</td>\n",
       "      <td>115</td>\n",
       "      <td>115</td>\n",
       "    </tr>\n",
       "    <tr>\n",
       "      <th>community_microgrid</th>\n",
       "      <td>45</td>\n",
       "      <td>45</td>\n",
       "      <td>45</td>\n",
       "    </tr>\n",
       "    <tr>\n",
       "      <th>no_access</th>\n",
       "      <td>182</td>\n",
       "      <td>182</td>\n",
       "      <td>182</td>\n",
       "    </tr>\n",
       "  </tbody>\n",
       "</table>\n",
       "</div>"
      ],
      "text/plain": [
       "                     app_now/TV  app_buy/TV  valid_surveys\n",
       "access_type                                               \n",
       "PLN_grid                    417         417            417\n",
       "PLN_microgrid               115         115            115\n",
       "community_microgrid          45          45             45\n",
       "no_access                   182         182            182"
      ]
     },
     "execution_count": 31,
     "metadata": {},
     "output_type": "execute_result"
    }
   ],
   "source": [
    "appliance_data = survey[['app_now/TV', 'app_buy/TV', 'access_type']]\n",
    "appliance_data_no_nulls = appliance_data.dropna()\n",
    "adnn = appliance_data_no_nulls.groupby('access_type').count()\n",
    "adnn['valid_surveys'] = adnn['app_now/TV']\n",
    "adnn"
   ]
  },
  {
   "cell_type": "code",
   "execution_count": 40,
   "metadata": {
    "collapsed": false
   },
   "outputs": [
    {
     "data": {
      "text/html": [
       "<div>\n",
       "<table border=\"1\" class=\"dataframe\">\n",
       "  <thead>\n",
       "    <tr style=\"text-align: right;\">\n",
       "      <th></th>\n",
       "      <th>total_surveys</th>\n",
       "      <th>AE_count</th>\n",
       "      <th>percent_surveyed</th>\n",
       "      <th>valid_fraction_HH</th>\n",
       "    </tr>\n",
       "    <tr>\n",
       "      <th>access_type</th>\n",
       "      <th></th>\n",
       "      <th></th>\n",
       "      <th></th>\n",
       "      <th></th>\n",
       "    </tr>\n",
       "  </thead>\n",
       "  <tbody>\n",
       "    <tr>\n",
       "      <th>PLN_grid</th>\n",
       "      <td>619</td>\n",
       "      <td>660</td>\n",
       "      <td>0.937879</td>\n",
       "      <td>0.631818</td>\n",
       "    </tr>\n",
       "    <tr>\n",
       "      <th>PLN_microgrid</th>\n",
       "      <td>170</td>\n",
       "      <td>170</td>\n",
       "      <td>1.000000</td>\n",
       "      <td>0.676471</td>\n",
       "    </tr>\n",
       "    <tr>\n",
       "      <th>community_microgrid</th>\n",
       "      <td>54</td>\n",
       "      <td>60</td>\n",
       "      <td>0.900000</td>\n",
       "      <td>0.750000</td>\n",
       "    </tr>\n",
       "    <tr>\n",
       "      <th>no_access</th>\n",
       "      <td>341</td>\n",
       "      <td>398</td>\n",
       "      <td>0.856784</td>\n",
       "      <td>0.457286</td>\n",
       "    </tr>\n",
       "  </tbody>\n",
       "</table>\n",
       "</div>"
      ],
      "text/plain": [
       "                     total_surveys  AE_count  percent_surveyed  \\\n",
       "access_type                                                      \n",
       "PLN_grid                       619       660          0.937879   \n",
       "PLN_microgrid                  170       170          1.000000   \n",
       "community_microgrid             54        60          0.900000   \n",
       "no_access                      341       398          0.856784   \n",
       "\n",
       "                     valid_fraction_HH  \n",
       "access_type                             \n",
       "PLN_grid                      0.631818  \n",
       "PLN_microgrid                 0.676471  \n",
       "community_microgrid           0.750000  \n",
       "no_access                     0.457286  "
      ]
     },
     "execution_count": 40,
     "metadata": {},
     "output_type": "execute_result"
    }
   ],
   "source": [
    "# add value counts column to count of valid surveys\n",
    "adnn['total_surveys'] = appliance_data['access_type'].value_counts()\n",
    "adnn['percent_valid'] = adnn['valid_surveys'] / adnn['total_surveys']\n",
    "# this data from AE counts and Joshua data\n",
    "adnn['AE_count'] = pd.Series({'PLN_grid':660, 'PLN_microgrid':170, 'community_microgrid':60, 'no_access':398})\n",
    "adnn['valid_fraction_HH'] = adnn['valid_surveys'] / adnn['AE_count']\n",
    "adnn['percent_surveyed'] = adnn['total_surveys'] / adnn['AE_count']\n",
    "\n",
    "output_columns = ['total_surveys', 'AE_count', 'percent_surveyed', 'valid_fraction_HH']\n",
    "\n",
    "adnn[output_columns]"
   ]
  },
  {
   "cell_type": "code",
   "execution_count": 41,
   "metadata": {
    "collapsed": false
   },
   "outputs": [
    {
     "name": "stdout",
     "output_type": "stream",
     "text": [
      "|                     |   total_surveys |   AE_count |   percent_surveyed |   valid_fraction_HH |\n",
      "|:--------------------|----------------:|-----------:|-------------------:|--------------------:|\n",
      "| PLN_grid            |             619 |        660 |           0.937879 |            0.631818 |\n",
      "| PLN_microgrid       |             170 |        170 |           1        |            0.676471 |\n",
      "| community_microgrid |              54 |         60 |           0.9      |            0.75     |\n",
      "| no_access           |             341 |        398 |           0.856784 |            0.457286 |\n"
     ]
    }
   ],
   "source": [
    "import tabulate\n",
    "output = adnn[output_columns]\n",
    "print(tabulate.tabulate(output, headers=output_columns, tablefmt='pipe'))"
   ]
  }
 ],
 "metadata": {
  "kernelspec": {
   "display_name": "Python 3",
   "language": "python",
   "name": "python3"
  },
  "language_info": {
   "codemirror_mode": {
    "name": "ipython",
    "version": 3
   },
   "file_extension": ".py",
   "mimetype": "text/x-python",
   "name": "python",
   "nbconvert_exporter": "python",
   "pygments_lexer": "ipython3",
   "version": "3.4.4"
  }
 },
 "nbformat": 4,
 "nbformat_minor": 0
}
