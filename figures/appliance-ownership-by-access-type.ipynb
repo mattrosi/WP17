{
 "cells": [
  {
   "cell_type": "code",
   "execution_count": 1,
   "metadata": {
    "collapsed": false
   },
   "outputs": [
    {
     "name": "stderr",
     "output_type": "stream",
     "text": [
      "/Users/dsoto/anaconda/envs/sotolab/lib/python3.4/site-packages/matplotlib/__init__.py:872: UserWarning: axes.color_cycle is deprecated and replaced with axes.prop_cycle; please use the latter.\n",
      "  warnings.warn(self.msg_depr % (key, alt_key))\n"
     ]
    }
   ],
   "source": [
    "%matplotlib inline\n",
    "import matplotlib.pyplot as plt\n",
    "import seaborn as sns\n",
    "import pandas as pd\n",
    "import numpy as np\n",
    "import pysentani as sti"
   ]
  },
  {
   "cell_type": "code",
   "execution_count": 2,
   "metadata": {
    "collapsed": true
   },
   "outputs": [],
   "source": [
    "#survey = pd.read_excel('../data-anonymous/sentani-merged-cleaned-anonymous-2014-11-29.xlsx')\n",
    "survey = pd.read_excel('../data-survey/sentani-merged-cleaned-2015-06-10.xlsx')"
   ]
  },
  {
   "cell_type": "code",
   "execution_count": 3,
   "metadata": {
    "collapsed": true
   },
   "outputs": [],
   "source": [
    "# pysentani access type function\n",
    "survey['access_type'] = sti.access_type(survey)"
   ]
  },
  {
   "cell_type": "code",
   "execution_count": 4,
   "metadata": {
    "collapsed": true
   },
   "outputs": [],
   "source": [
    "# selecting only demand points that are households\n",
    "survey = survey[survey['demand_point'] == 'household']"
   ]
  },
  {
   "cell_type": "code",
   "execution_count": 5,
   "metadata": {
    "collapsed": false
   },
   "outputs": [],
   "source": [
    "# renaming columns\n",
    "survey.rename(columns={'app_now/rice_cooker': 'Rice Cooker',\n",
    "                       'app_now/TV': 'TV',\n",
    "                       'app_now/fridge': 'Fridge',\n",
    "                       'app_now/fan':'Fan',\n",
    "                       'app_now/lighting': 'Lighting',\n",
    "                       'app_now/radio': 'Radio',\n",
    "                       'HP_y_n': 'Mobile Phone',\n",
    "                       'access_type': 'Access Type'},\n",
    "                                 inplace = True)\n",
    "\n",
    "# renaming subcategories of Access Type\n",
    "survey.replace(to_replace = {'Access Type': {'PLN_grid': 'PLN Grid',\n",
    "                                             'community_microgrid': 'Community Microgrid',\n",
    "                                             'PLN_microgrid': 'PLN Microgrid',\n",
    "                                             'no_access': 'No Access'}},inplace = True)"
   ]
  },
  {
   "cell_type": "code",
   "execution_count": 6,
   "metadata": {
    "collapsed": false
   },
   "outputs": [],
   "source": [
    "# creating new dataframe that classifies each owned appliance by access type\n",
    "subsurvey = survey[['Access Type',\n",
    "                    'TV','Lighting','Mobile Phone','Radio',\n",
    "                    'Rice Cooker','Fridge','Fan']]"
   ]
  },
  {
   "cell_type": "code",
   "execution_count": 7,
   "metadata": {
    "collapsed": false
   },
   "outputs": [
    {
     "data": {
      "text/html": [
       "<div>\n",
       "<table border=\"1\" class=\"dataframe\">\n",
       "  <thead>\n",
       "    <tr style=\"text-align: right;\">\n",
       "      <th>Access Type</th>\n",
       "      <th>Community Microgrid</th>\n",
       "      <th>No Access</th>\n",
       "      <th>PLN Grid</th>\n",
       "      <th>PLN Microgrid</th>\n",
       "    </tr>\n",
       "  </thead>\n",
       "  <tbody>\n",
       "    <tr>\n",
       "      <th>TV</th>\n",
       "      <td>0.941176</td>\n",
       "      <td>0.817073</td>\n",
       "      <td>0.815238</td>\n",
       "      <td>0.840000</td>\n",
       "    </tr>\n",
       "    <tr>\n",
       "      <th>Lighting</th>\n",
       "      <td>0.882353</td>\n",
       "      <td>0.898374</td>\n",
       "      <td>0.927619</td>\n",
       "      <td>0.960000</td>\n",
       "    </tr>\n",
       "    <tr>\n",
       "      <th>Mobile Phone</th>\n",
       "      <td>0.843137</td>\n",
       "      <td>0.756579</td>\n",
       "      <td>0.686924</td>\n",
       "      <td>0.774194</td>\n",
       "    </tr>\n",
       "    <tr>\n",
       "      <th>Radio</th>\n",
       "      <td>0.509804</td>\n",
       "      <td>0.447154</td>\n",
       "      <td>0.318095</td>\n",
       "      <td>0.293333</td>\n",
       "    </tr>\n",
       "    <tr>\n",
       "      <th>Rice Cooker</th>\n",
       "      <td>0.137255</td>\n",
       "      <td>0.032520</td>\n",
       "      <td>0.278095</td>\n",
       "      <td>0.013333</td>\n",
       "    </tr>\n",
       "    <tr>\n",
       "      <th>Fridge</th>\n",
       "      <td>0.019608</td>\n",
       "      <td>0.016260</td>\n",
       "      <td>0.306667</td>\n",
       "      <td>0.040000</td>\n",
       "    </tr>\n",
       "    <tr>\n",
       "      <th>Fan</th>\n",
       "      <td>0.098039</td>\n",
       "      <td>0.081301</td>\n",
       "      <td>0.144762</td>\n",
       "      <td>0.026667</td>\n",
       "    </tr>\n",
       "  </tbody>\n",
       "</table>\n",
       "</div>"
      ],
      "text/plain": [
       "Access Type   Community Microgrid  No Access  PLN Grid  PLN Microgrid\n",
       "TV                       0.941176   0.817073  0.815238       0.840000\n",
       "Lighting                 0.882353   0.898374  0.927619       0.960000\n",
       "Mobile Phone             0.843137   0.756579  0.686924       0.774194\n",
       "Radio                    0.509804   0.447154  0.318095       0.293333\n",
       "Rice Cooker              0.137255   0.032520  0.278095       0.013333\n",
       "Fridge                   0.019608   0.016260  0.306667       0.040000\n",
       "Fan                      0.098039   0.081301  0.144762       0.026667"
      ]
     },
     "execution_count": 7,
     "metadata": {},
     "output_type": "execute_result"
    }
   ],
   "source": [
    "# grouping new dataframe of appliances into specific access types\n",
    "analyzed = subsurvey.groupby('Access Type').mean()\n",
    "analyzed.transpose()"
   ]
  },
  {
   "cell_type": "code",
   "execution_count": 10,
   "metadata": {
    "collapsed": false
   },
   "outputs": [
    {
     "data": {
      "text/html": [
       "<div>\n",
       "<table border=\"1\" class=\"dataframe\">\n",
       "  <thead>\n",
       "    <tr style=\"text-align: right;\">\n",
       "      <th></th>\n",
       "      <th>Access Type</th>\n",
       "      <th>variable</th>\n",
       "      <th>Percent Ownership</th>\n",
       "    </tr>\n",
       "  </thead>\n",
       "  <tbody>\n",
       "    <tr>\n",
       "      <th>0</th>\n",
       "      <td>Community Microgrid</td>\n",
       "      <td>TV</td>\n",
       "      <td>0.941176</td>\n",
       "    </tr>\n",
       "    <tr>\n",
       "      <th>1</th>\n",
       "      <td>No Access</td>\n",
       "      <td>TV</td>\n",
       "      <td>0.817073</td>\n",
       "    </tr>\n",
       "    <tr>\n",
       "      <th>2</th>\n",
       "      <td>PLN Grid</td>\n",
       "      <td>TV</td>\n",
       "      <td>0.815238</td>\n",
       "    </tr>\n",
       "    <tr>\n",
       "      <th>3</th>\n",
       "      <td>PLN Microgrid</td>\n",
       "      <td>TV</td>\n",
       "      <td>0.840000</td>\n",
       "    </tr>\n",
       "    <tr>\n",
       "      <th>4</th>\n",
       "      <td>Community Microgrid</td>\n",
       "      <td>Lighting</td>\n",
       "      <td>0.882353</td>\n",
       "    </tr>\n",
       "  </tbody>\n",
       "</table>\n",
       "</div>"
      ],
      "text/plain": [
       "           Access Type  variable  Percent Ownership\n",
       "0  Community Microgrid        TV           0.941176\n",
       "1            No Access        TV           0.817073\n",
       "2             PLN Grid        TV           0.815238\n",
       "3        PLN Microgrid        TV           0.840000\n",
       "4  Community Microgrid  Lighting           0.882353"
      ]
     },
     "execution_count": 10,
     "metadata": {},
     "output_type": "execute_result"
    }
   ],
   "source": [
    "# creating variables for barplot graph\n",
    "analyzed['Access Type'] = analyzed.index\n",
    "melted = pd.melt(analyzed, \n",
    "                 id_vars=['Access Type'],\n",
    "                 value_vars=['TV','Lighting','Mobile Phone','Radio',\n",
    "                             'Rice Cooker','Fridge','Fan'],\n",
    "                 value_name='Percent Ownership')\n",
    "melted.head()"
   ]
  },
  {
   "cell_type": "code",
   "execution_count": 11,
   "metadata": {
    "collapsed": false
   },
   "outputs": [
    {
     "name": "stderr",
     "output_type": "stream",
     "text": [
      "/Users/dsoto/anaconda/envs/sotolab/lib/python3.4/site-packages/matplotlib/__init__.py:892: UserWarning: axes.color_cycle is deprecated and replaced with axes.prop_cycle; please use the latter.\n",
      "  warnings.warn(self.msg_depr % (key, alt_key))\n"
     ]
    },
    {
     "data": {
      "image/png": "[encoded data removed]",
      "text/plain": [
       "<matplotlib.figure.Figure at 0x10eab0320>"
      ]
     },
     "metadata": {},
     "output_type": "display_data"
    }
   ],
   "source": [
    "plt.figure(figsize=(13,8))\n",
    "#sns.barplot(x='variable', y='Percent Ownership', hue='Access Type',\n",
    "sns.barplot(hue='variable', y='Percent Ownership', x='Access Type',\n",
    "             #hue_order = ['PLN Grid','PLN Microgrid','Community Microgrid','No Access'],\n",
    "            saturation=5, data=melted)\n",
    "plt.legend(loc='upper right',prop={'size':14})\n",
    "plt.xlabel('Appliance Type', fontsize=14)\n",
    "plt.ylabel('Percent Ownership', fontsize=14)\n",
    "plt.tick_params(labelsize=12)\n",
    "plt.savefig('appliance-ownership-by-access-type.png')"
   ]
  },
  {
   "cell_type": "code",
   "execution_count": null,
   "metadata": {
    "collapsed": false
   },
   "outputs": [],
   "source": []
  }
 ],
 "metadata": {
  "kernelspec": {
   "display_name": "Python 3",
   "language": "python",
   "name": "python3"
  },
  "language_info": {
   "codemirror_mode": {
    "name": "ipython",
    "version": 3
   },
   "file_extension": ".py",
   "mimetype": "text/x-python",
   "name": "python",
   "nbconvert_exporter": "python",
   "pygments_lexer": "ipython3",
   "version": "3.4.4"
  }
 },
 "nbformat": 4,
 "nbformat_minor": 0
}
